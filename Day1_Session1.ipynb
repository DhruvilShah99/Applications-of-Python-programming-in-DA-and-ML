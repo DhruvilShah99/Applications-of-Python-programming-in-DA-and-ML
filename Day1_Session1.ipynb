{
  "nbformat": 4,
  "nbformat_minor": 0,
  "metadata": {
    "colab": {
      "name": "Untitled0.ipynb",
      "provenance": [],
      "authorship_tag": "ABX9TyNI5Qz4G3t/psLcdAhAF5HA",
      "include_colab_link": true
    },
    "kernelspec": {
      "name": "python3",
      "display_name": "Python 3"
    }
  },
  "cells": [
    {
      "cell_type": "markdown",
      "metadata": {
        "id": "view-in-github",
        "colab_type": "text"
      },
      "source": [
        "<a href=\"https://colab.research.google.com/github/DhruvilShah99/Applications-of-Python-programming-in-DA-and-ML/blob/master/Day1_Session1.ipynb\" target=\"_parent\"><img src=\"https://colab.research.google.com/assets/colab-badge.svg\" alt=\"Open In Colab\"/></a>"
      ]
    },
    {
      "cell_type": "markdown",
      "metadata": {
        "id": "GF__OsH5JcCj",
        "colab_type": "text"
      },
      "source": [
        "Python Program to Add Two Numbers getting through key board"
      ]
    },
    {
      "cell_type": "code",
      "metadata": {
        "id": "jBvN4tYqJf-B",
        "colab_type": "code",
        "colab": {
          "base_uri": "https://localhost:8080/",
          "height": 67
        },
        "outputId": "5a8d7a50-04a3-4d39-8c2f-bbbc37b3ca85"
      },
      "source": [
        "# sum of two nos\n",
        "num1 = int(input(\"Enter first no\"))\n",
        "num2 = int(input(\"Enter second no\"))\n",
        "\n",
        "# Adding the two numbers\n",
        "sum = num1 + num2\n",
        "\n",
        "# Display the sum\n",
        "print('The sum of {0} and {1} is {2}'.format(num1, num2, sum))"
      ],
      "execution_count": 2,
      "outputs": [
        {
          "output_type": "stream",
          "text": [
            "Enter first no5\n",
            "Enter second no6\n",
            "The sum of 5 and 6 is 11\n"
          ],
          "name": "stdout"
        }
      ]
    },
    {
      "cell_type": "markdown",
      "metadata": {
        "id": "Q0CAMKEdKy6V",
        "colab_type": "text"
      },
      "source": [
        "Python program to check if the input year is a leap year or not"
      ]
    },
    {
      "cell_type": "code",
      "metadata": {
        "id": "Bh358dGtK2ro",
        "colab_type": "code",
        "colab": {
          "base_uri": "https://localhost:8080/",
          "height": 50
        },
        "outputId": "ffc39b01-de9d-4fe0-da6e-c0a081d96eb0"
      },
      "source": [
        "# To get year (integer input) from the user\n",
        "year = int(input(\"Enter a year: \"))\n",
        "\n",
        "if ((year % 4) == 0 and (year % 100)  != 0) or ((year % 400) == 0):\n",
        "           print(\"{0} is a leap year\".format(year))\n",
        "else:\n",
        "           print(\"{0} is not a leap year\".format(year))\n"
      ],
      "execution_count": 3,
      "outputs": [
        {
          "output_type": "stream",
          "text": [
            "Enter a year: 2020\n",
            "2020 is a leap year\n"
          ],
          "name": "stdout"
        }
      ]
    },
    {
      "cell_type": "markdown",
      "metadata": {
        "id": "5TkWFPwgK-Mj",
        "colab_type": "text"
      },
      "source": [
        "Python Program to Generate a Random Number "
      ]
    },
    {
      "cell_type": "code",
      "metadata": {
        "id": "6xDQ09NqLBhJ",
        "colab_type": "code",
        "colab": {
          "base_uri": "https://localhost:8080/",
          "height": 34
        },
        "outputId": "6ce23e5c-c727-4464-840a-06c6d01546dc"
      },
      "source": [
        "# Program to generate a random number between 0 and 9\n",
        "# import the random module\n",
        "import random\n",
        "print(random.randint(0,9))\n"
      ],
      "execution_count": 4,
      "outputs": [
        {
          "output_type": "stream",
          "text": [
            "2\n"
          ],
          "name": "stdout"
        }
      ]
    },
    {
      "cell_type": "markdown",
      "metadata": {
        "id": "2FBylRfmLGvx",
        "colab_type": "text"
      },
      "source": [
        "Python Program to Convert Kilometers to Miles "
      ]
    },
    {
      "cell_type": "code",
      "metadata": {
        "id": "egL-eTwwLKOu",
        "colab_type": "code",
        "colab": {
          "base_uri": "https://localhost:8080/",
          "height": 50
        },
        "outputId": "5e6e8437-9454-41f8-d8b0-f97c047b2afa"
      },
      "source": [
        "# To take kilometers from the user, uncomment the code below\n",
        "kilometers = int(input(\"Enter value in kilometers\"))\n",
        "\n",
        "# conversion factor\n",
        "conv_fac = 0.621371\n",
        "\n",
        "# calculate miles\n",
        "miles = kilometers * conv_fac\n",
        "print('%0.3f kilometers is equal to %0.3f miles' %(kilometers,miles))\n"
      ],
      "execution_count": 5,
      "outputs": [
        {
          "output_type": "stream",
          "text": [
            "Enter value in kilometers100\n",
            "100.000 kilometers is equal to 62.137 miles\n"
          ],
          "name": "stdout"
        }
      ]
    },
    {
      "cell_type": "markdown",
      "metadata": {
        "id": "sMHcoinALY3K",
        "colab_type": "text"
      },
      "source": [
        "Python Program to Solve Quadratic Equation "
      ]
    },
    {
      "cell_type": "code",
      "metadata": {
        "id": "lZUvBurfLcOn",
        "colab_type": "code",
        "colab": {
          "base_uri": "https://localhost:8080/",
          "height": 84
        },
        "outputId": "06514468-aca4-4cac-ccd7-140fe1809ed8"
      },
      "source": [
        "# Solve the quadratic equation ax**2 + bx + c = 0\n",
        "# importing  complex math module\n",
        "import cmath\n",
        "\n",
        " # To take coefficient input from the users\n",
        "a = float(input('Enter a: '))\n",
        "b = float(input('Enter b: '))\n",
        "c = float(input('Enter c: '))\n",
        "\n",
        "# calculate the discriminant\n",
        "d = (b**2) - (4*a*c)\n",
        "\n",
        "# find two solutions\n",
        "sol1 = (-b-cmath.sqrt(d))/(2*a)\n",
        "sol2 = (-b+cmath.sqrt(d))/(2*a)\n",
        "\n",
        "print('The solution are {0} and {1}'.format(sol1,sol2))\n"
      ],
      "execution_count": 7,
      "outputs": [
        {
          "output_type": "stream",
          "text": [
            "Enter a: 1\n",
            "Enter b: 2\n",
            "Enter c: 3\n",
            "The solution are (-1-1.4142135623730951j) and (-1+1.4142135623730951j)\n"
          ],
          "name": "stdout"
        }
      ]
    },
    {
      "cell_type": "markdown",
      "metadata": {
        "id": "Wb_kYPLmLyoc",
        "colab_type": "text"
      },
      "source": [
        "Python Program to find prime or not using function "
      ]
    },
    {
      "cell_type": "code",
      "metadata": {
        "id": "iqcmAcQPL2C4",
        "colab_type": "code",
        "colab": {
          "base_uri": "https://localhost:8080/",
          "height": 50
        },
        "outputId": "095ac261-7a8f-45c9-bf34-92049ebc420d"
      },
      "source": [
        "def test_prime(n):\n",
        "    if (n==1):\n",
        "        return False\n",
        "    elif (n==2):\n",
        "        return True;\n",
        "    else:\n",
        "        for x in range(2,n):\n",
        "            if(n % x==0):\n",
        "                return False\n",
        "        return True\n",
        "no=int(input(\"Enter the number\"))\n",
        "if (test_prime(no)) is True :\n",
        "    print(\" {0} is a prime no\".format(no))\n",
        "else:\n",
        "     print(\" {0} is not a prime no\".format(no))\n",
        "\n"
      ],
      "execution_count": 8,
      "outputs": [
        {
          "output_type": "stream",
          "text": [
            "Enter the number7\n",
            " 7 is a prime no\n"
          ],
          "name": "stdout"
        }
      ]
    },
    {
      "cell_type": "markdown",
      "metadata": {
        "id": "ys7z60QpMENF",
        "colab_type": "text"
      },
      "source": [
        "Calculator program"
      ]
    },
    {
      "cell_type": "code",
      "metadata": {
        "id": "5jgGHoi4MHhv",
        "colab_type": "code",
        "colab": {
          "base_uri": "https://localhost:8080/",
          "height": 1000
        },
        "outputId": "6bc3baba-b550-4de8-beaf-5cdae84f5ed0"
      },
      "source": [
        "loop = 1 # 1 means loop; anything else means don't loop.\n",
        "choice = 0 # This variable holds the user's choice in the menu\n",
        "\n",
        "def add(x,y):\n",
        "    return x+y      \n",
        "def sub(x,y):\n",
        "    return x-y\n",
        "def mul(x,y):\n",
        "    return x*y\t\n",
        "def div(x,y):\n",
        "    return x/y\n",
        "\n",
        "while loop == 1:\n",
        "# Print what options you have\n",
        "  print (\"Welcome to calculator.py\")\n",
        "  print (\"your options are:\") \n",
        "  print (\"\")\n",
        "  print(\"1) Addition\")\n",
        "  print(\"2) Subtraction\")\n",
        "  print(\"3) Multiplication\")\n",
        "  print(\"4) Division\")\n",
        "  print(\"5) Quit calculator.py\")\n",
        "  print(\"\")\n",
        "  try:\n",
        "    choice = int(input(\"Choose your option: \"))\n",
        "  except:\n",
        "    print('please enter a valid number for option')\n",
        "    print(\"\")\n",
        "    print(\"\")\n",
        "  if choice == 1:\n",
        "    x = int(input(\"Enter 1st no: \"))\n",
        "    y = int(input(\"Enter 2nd no: \"))\n",
        "    print(\"The answer is \",add(x,y))\n",
        "\n",
        "  elif choice == 2:\n",
        "    x = int(input(\"Enter 1st no: \"))\n",
        "    y = int(input(\"Enter 2nd no: \"))\n",
        "    print(\"answer is \",sub(x,y))\n",
        "\n",
        "  elif choice == 3:\n",
        "    x = int(input(\"Enter 1st no: \"))\n",
        "    y = int(input(\"Enter 2nd no: \"))\n",
        "    print(\"answer is \",mul(x,y))\n",
        "\n",
        "  elif choice == 4:\n",
        "    x = int(input(\"Enter 1st no: \"))\n",
        "    y = int(input(\"Enter 2nd no: \"))\n",
        "    print(\"answer is \",div(x,y))\n",
        "\n",
        "  elif choice == 5:\n",
        "    loop = 0\n",
        "\n",
        "  else:\n",
        "    print(\"please choice a valid option from 1 to 5\")\n",
        "    choice=0\n",
        "    print (\"Thank-you for using calculator.py!\")"
      ],
      "execution_count": 30,
      "outputs": [
        {
          "output_type": "stream",
          "text": [
            "Welcome to calculator.py\n",
            "your options are:\n",
            "\n",
            "1) Addition\n",
            "2) Subtraction\n",
            "3) Multiplication\n",
            "4) Division\n",
            "5) Quit calculator.py\n",
            "\n",
            "Choose your option: 1\n",
            "Enter 1st no: 2\n",
            "Enter 2nd no: 3\n",
            "The answer is  5\n",
            "Welcome to calculator.py\n",
            "your options are:\n",
            "\n",
            "1) Addition\n",
            "2) Subtraction\n",
            "3) Multiplication\n",
            "4) Division\n",
            "5) Quit calculator.py\n",
            "\n",
            "Choose your option: 2\n",
            "Enter 1st no: 5\n",
            "Enter 2nd no: 4\n",
            "answer is  1\n",
            "Welcome to calculator.py\n",
            "your options are:\n",
            "\n",
            "1) Addition\n",
            "2) Subtraction\n",
            "3) Multiplication\n",
            "4) Division\n",
            "5) Quit calculator.py\n",
            "\n",
            "Choose your option: 3\n",
            "Enter 1st no: 5\n",
            "Enter 2nd no: 6\n",
            "answer is  30\n",
            "Welcome to calculator.py\n",
            "your options are:\n",
            "\n",
            "1) Addition\n",
            "2) Subtraction\n",
            "3) Multiplication\n",
            "4) Division\n",
            "5) Quit calculator.py\n",
            "\n",
            "Choose your option: 4\n",
            "Enter 1st no: 8\n",
            "Enter 2nd no: 4\n",
            "answer is  2.0\n",
            "Welcome to calculator.py\n",
            "your options are:\n",
            "\n",
            "1) Addition\n",
            "2) Subtraction\n",
            "3) Multiplication\n",
            "4) Division\n",
            "5) Quit calculator.py\n",
            "\n",
            "Choose your option: 5\n"
          ],
          "name": "stdout"
        }
      ]
    },
    {
      "cell_type": "markdown",
      "metadata": {
        "id": "ElHm5rFzNpWq",
        "colab_type": "text"
      },
      "source": [
        "Find the compound interest for the given p,n,r  (formula : p(1+n*r/100)n )"
      ]
    },
    {
      "cell_type": "code",
      "metadata": {
        "id": "RTQAIFC9Nrzz",
        "colab_type": "code",
        "colab": {
          "base_uri": "https://localhost:8080/",
          "height": 84
        },
        "outputId": "badb5148-aed0-4221-f986-7042e98e105c"
      },
      "source": [
        "def comp_int(p,n,r):\n",
        "  CI = p * (pow((1 + (n * r) / 100), n)) \n",
        "  print(\"Compound interest is\", CI) \n",
        "p = int(input(\"Enter p value: \"))\n",
        "n = int(input(\"Enter n value: \"))\n",
        "r = int(input(\"Enter r value: \"))\n",
        "comp_int(p,n,r)"
      ],
      "execution_count": 14,
      "outputs": [
        {
          "output_type": "stream",
          "text": [
            "Enter p value: 10\n",
            "Enter n value: 2\n",
            "Enter r value: 3\n",
            "Compound interest is 11.236\n"
          ],
          "name": "stdout"
        }
      ]
    },
    {
      "cell_type": "markdown",
      "metadata": {
        "id": "xlBZnewfOyxS",
        "colab_type": "text"
      },
      "source": [
        "Convert centegrade to farenheit  ( f= 9/5*c+32)"
      ]
    },
    {
      "cell_type": "code",
      "metadata": {
        "id": "V8E3udJ7O31T",
        "colab_type": "code",
        "colab": {
          "base_uri": "https://localhost:8080/",
          "height": 50
        },
        "outputId": "d853e8a0-87d4-409d-d331-d3232da23aa6"
      },
      "source": [
        "c = float(input(\"Enter temperature in centegrade: \"))\n",
        "f = (c * 9/5) + 32\n",
        "print('%.2f Centegrade is: %0.2f Fahrenheit' %(c, f))"
      ],
      "execution_count": 15,
      "outputs": [
        {
          "output_type": "stream",
          "text": [
            "Enter temperature in centegrade: 100\n",
            "100.00 Centegrade is: 212.00 Fahrenheit\n"
          ],
          "name": "stdout"
        }
      ]
    },
    {
      "cell_type": "markdown",
      "metadata": {
        "id": "zs47oh7FPh4e",
        "colab_type": "text"
      },
      "source": [
        "Find the greater of two nos "
      ]
    },
    {
      "cell_type": "code",
      "metadata": {
        "id": "W7kQH4rXQJ3G",
        "colab_type": "code",
        "colab": {
          "base_uri": "https://localhost:8080/",
          "height": 67
        },
        "outputId": "3ea0a562-66d1-4256-d046-c6fd91907768"
      },
      "source": [
        "n1=int(input(\"enter the first number:\"))\n",
        "n2=int(input(\"enter the second number:\"))\n",
        "if n1>=n2:\n",
        "  l=n1\n",
        "else:\n",
        "  l=n2\n",
        "print(\"the largest number is:\",l)"
      ],
      "execution_count": 17,
      "outputs": [
        {
          "output_type": "stream",
          "text": [
            "enter the first number:12\n",
            "enter the second number:23\n",
            "the largest number is: 23\n"
          ],
          "name": "stdout"
        }
      ]
    },
    {
      "cell_type": "markdown",
      "metadata": {
        "id": "_XUKimS1QiRM",
        "colab_type": "text"
      },
      "source": [
        "Write a program for finding surface areas of cylinder and cone (2*PI*r*r*h, 1/3*PI*r*r*h) using function"
      ]
    },
    {
      "cell_type": "code",
      "metadata": {
        "id": "ZjVnquc4Q7RF",
        "colab_type": "code",
        "colab": {
          "base_uri": "https://localhost:8080/",
          "height": 84
        },
        "outputId": "a692561d-d02e-4b6e-abe0-866973eb37e0"
      },
      "source": [
        "import math \n",
        "pi = math.pi \n",
        "   \n",
        "def sa_cone(r, h): \n",
        "    return (1 / 3) * pi * r * r * h\n",
        "def sa_cylinder(r, h): \n",
        "    return 2 * pi * r * r * h\n",
        "\n",
        "r=float(input(\"Enter the radius:\"))\n",
        "h=float(input(\"Enter the height:\"))\n",
        "print( \"Surface Area Of Cylinder : \", sa_cylinder(r , h) )\n",
        "print( \"Surface Area Of Cone : \", sa_cone(r , h) ) "
      ],
      "execution_count": 19,
      "outputs": [
        {
          "output_type": "stream",
          "text": [
            "Enter the radius:5\n",
            "Enter the height:6\n",
            "Surface Area Of Cylinder :  942.4777960769379\n",
            "Surface Area Of Cone :  157.07963267948963\n"
          ],
          "name": "stdout"
        }
      ]
    },
    {
      "cell_type": "markdown",
      "metadata": {
        "id": "4rmVN80bSbmI",
        "colab_type": "text"
      },
      "source": [
        "Find the greatest of four nos ( using ‘and’ operator)   using function."
      ]
    },
    {
      "cell_type": "code",
      "metadata": {
        "id": "Bu0fXCeqSdVF",
        "colab_type": "code",
        "colab": {
          "base_uri": "https://localhost:8080/",
          "height": 101
        },
        "outputId": "08944771-ec93-43a4-c9c9-b68df5c954dd"
      },
      "source": [
        "def large(n1,n2,n3,n4):\n",
        "  if n1>n2 and n1>n3 and n1>n4:\n",
        "    return n1\n",
        "  elif n2>n3 and n2>n4:\n",
        "    return n2\n",
        "  elif n3>n4:\n",
        "    return n3\n",
        "  else:\n",
        "    return n4\n",
        "n1=int(input(\"Enter the first number:\"))\n",
        "n2=int(input(\"Enter the second number:\"))\n",
        "n3=int(input(\"Enter the third number:\"))\n",
        "n4=int(input(\"Enter the fourth number:\"))\n",
        "print(\"The greatest of the four numbers is \",(large(n1,n2,n3,n4)))"
      ],
      "execution_count": 23,
      "outputs": [
        {
          "output_type": "stream",
          "text": [
            "Enter the first number:3\n",
            "Enter the second number:4\n",
            "Enter the third number:1\n",
            "Enter the fourth number:3\n",
            "The greatest of the four numbers is  4\n"
          ],
          "name": "stdout"
        }
      ]
    },
    {
      "cell_type": "markdown",
      "metadata": {
        "id": "dDrK9-dxUCbi",
        "colab_type": "text"
      },
      "source": [
        "Write a  menu program to perform the operations ( ODDorEven, Factorial, ODDNoUptoN, PrimeUptoN ) using functions for two nos with  menu choice"
      ]
    },
    {
      "cell_type": "code",
      "metadata": {
        "id": "uPaLeb-jbUJy",
        "colab_type": "code",
        "colab": {
          "base_uri": "https://localhost:8080/",
          "height": 974
        },
        "outputId": "29ef6154-1842-417f-8c47-c506a92e8449"
      },
      "source": [
        "loop = 1 \n",
        "choice = 0\n",
        "def odd_even(x):\n",
        "  if x%2==0:\n",
        "    return True\n",
        "  else:\n",
        "    return False\n",
        "\n",
        "def fact(x):\n",
        "  if(x==0):\n",
        "    return 1\n",
        "  else:\n",
        "    return x*fact(x-1)\n",
        "\n",
        "def OddUpto(x):\n",
        "  for num in range(1,x+1):\n",
        "    if num % 2 != 0: \n",
        "        print(num, end = \" \")\n",
        "  print(\" \") \n",
        "  print(\" \") \n",
        "\n",
        "def PrimeUpto(x):\n",
        "  for num in range(2,x+1):\n",
        "    i = 2\n",
        "    for i in range(2, num):\n",
        "        if(num % i == 0):\n",
        "            i = num\n",
        "            break;\n",
        "    if(i != num):\n",
        "        print(num, end=\" \")\n",
        "  print(\" \") \n",
        "  print(\" \") \n",
        "\n",
        "while loop == 1:\n",
        "  print(\"Menu:\") \n",
        "  print(\"\")\n",
        "  print(\"1) Odd or Even\")\n",
        "  print(\"2) Factorial\")\n",
        "  print(\"3) Odd number Upto N\")\n",
        "  print(\"4) Prime number Upto N \")\n",
        "  print(\"5) Quit\")\n",
        "  print(\"\")\n",
        "  try:\n",
        "    choice = int(input(\"Choose your option: \"))\n",
        "  except:\n",
        "    print('please enter a valid number for option')\n",
        "    print(\"\")\n",
        "    print(\"\")\n",
        "  if choice == 1:\n",
        "    x = int(input(\"Enter a value: \"))\n",
        "    if odd_even(x):\n",
        "      print(x,\" is even\")\n",
        "    else:\n",
        "      print(x,\" is odd\")\n",
        "\n",
        "  elif choice == 2:\n",
        "    x = int(input(\"Enter a value: \"))\n",
        "    print(\"Factorial of \",x,\" is \",fact(x))\n",
        "\n",
        "  elif choice == 3:\n",
        "    x = int(input(\"Enter a value: \"))\n",
        "    print(\"Odd numbers upto \",x,\" are:\")\n",
        "    OddUpto(x)\n",
        "\n",
        "  elif choice == 4:\n",
        "    x = int(input(\"Enter a value: \"))\n",
        "    print(\"Prime numbers upto \",x,\" are:\")\n",
        "    PrimeUpto(x)\n",
        "\n",
        "  elif choice == 5:\n",
        "    loop = 0\n",
        "\n",
        "  else:\n",
        "    print(\"please choice a valid option from 1 to 5\")\n",
        "    choice=0"
      ],
      "execution_count": 35,
      "outputs": [
        {
          "output_type": "stream",
          "text": [
            "Menu:\n",
            "\n",
            "1) Odd or Even\n",
            "2) Factorial\n",
            "3) Odd number Upto N\n",
            "4) Prime number Upto N \n",
            "5) Quit\n",
            "\n",
            "Choose your option: 1\n",
            "Enter a value: 6\n",
            "6  is even\n",
            "Menu:\n",
            "\n",
            "1) Odd or Even\n",
            "2) Factorial\n",
            "3) Odd number Upto N\n",
            "4) Prime number Upto N \n",
            "5) Quit\n",
            "\n",
            "Choose your option: 2\n",
            "Enter a value: 5\n",
            "Factorial of  5  is  120\n",
            "Menu:\n",
            "\n",
            "1) Odd or Even\n",
            "2) Factorial\n",
            "3) Odd number Upto N\n",
            "4) Prime number Upto N \n",
            "5) Quit\n",
            "\n",
            "Choose your option: 3\n",
            "Enter a value: 9\n",
            "Odd numbers upto  9  are:\n",
            "1 3 5 7 9  \n",
            " \n",
            "Menu:\n",
            "\n",
            "1) Odd or Even\n",
            "2) Factorial\n",
            "3) Odd number Upto N\n",
            "4) Prime number Upto N \n",
            "5) Quit\n",
            "\n",
            "Choose your option: 4\n",
            "Enter a value: 17\n",
            "Prime numbers upto  17  are:\n",
            "3 5 7 11 13 17  \n",
            " \n",
            "Menu:\n",
            "\n",
            "1) Odd or Even\n",
            "2) Factorial\n",
            "3) Odd number Upto N\n",
            "4) Prime number Upto N \n",
            "5) Quit\n",
            "\n",
            "Choose your option: 5\n"
          ],
          "name": "stdout"
        }
      ]
    }
  ]
}