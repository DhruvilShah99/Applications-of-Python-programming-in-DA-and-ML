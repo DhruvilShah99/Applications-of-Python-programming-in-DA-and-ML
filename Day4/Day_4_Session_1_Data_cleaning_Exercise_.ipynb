{
  "nbformat": 4,
  "nbformat_minor": 0,
  "metadata": {
    "colab": {
      "name": "Day 4 Session 1 Data cleaning Exercise .ipynb",
      "provenance": [],
      "authorship_tag": "ABX9TyMoqJoF/nkDlpx+bSwQK5sB",
      "include_colab_link": true
    },
    "kernelspec": {
      "name": "python3",
      "display_name": "Python 3"
    }
  },
  "cells": [
    {
      "cell_type": "markdown",
      "metadata": {
        "id": "view-in-github",
        "colab_type": "text"
      },
      "source": [
        "<a href=\"https://colab.research.google.com/github/sinchana514/Python_Programming_in_DA_and_ML/blob/master/Day_4_Session_1_Data_cleaning_Exercise_.ipynb\" target=\"_parent\"><img src=\"https://colab.research.google.com/assets/colab-badge.svg\" alt=\"Open In Colab\"/></a>"
      ]
    },
    {
      "cell_type": "code",
      "metadata": {
        "id": "8JA8j3G3BT0v",
        "colab_type": "code",
        "colab": {}
      },
      "source": [
        "!pip install -U -q PyDrive\n",
        "from pydrive.auth import GoogleAuth\n",
        "from pydrive.drive import GoogleDrive\n",
        "from google.colab import auth\n",
        "from oauth2client.client import GoogleCredentials"
      ],
      "execution_count": 5,
      "outputs": []
    },
    {
      "cell_type": "code",
      "metadata": {
        "id": "AVF1Ari5BXeO",
        "colab_type": "code",
        "colab": {}
      },
      "source": [
        "auth.authenticate_user()\n",
        "gauth = GoogleAuth()\n",
        "gauth.credentials = GoogleCredentials.get_application_default()\n",
        "drive = GoogleDrive(gauth)"
      ],
      "execution_count": 6,
      "outputs": []
    },
    {
      "cell_type": "code",
      "metadata": {
        "id": "2mVKNNg-Bk5Z",
        "colab_type": "code",
        "colab": {}
      },
      "source": [
        "downloaded = drive.CreateFile({'id':'1L0m7aIzH-qaEghnj_Hz3db85xGzi4YxR'}) # replace the id with id of file you want to access\n",
        "downloaded.GetContentFile('property_data.csv') "
      ],
      "execution_count": 31,
      "outputs": []
    },
    {
      "cell_type": "code",
      "metadata": {
        "id": "QMBvJ6dKGRPA",
        "colab_type": "code",
        "colab": {
          "base_uri": "https://localhost:8080/",
          "height": 50
        },
        "outputId": "61724e56-54e8-4662-b75d-9a12c54b3a32"
      },
      "source": [
        "import pandas as pd\n",
        "xyz = pd.read_csv('property_data.csv') \n",
        "print(xyz.head(1))"
      ],
      "execution_count": 33,
      "outputs": [
        {
          "output_type": "stream",
          "text": [
            "   ST_NUM ST_NAME NUM_ROOMS OWN_OCCUPIED\n",
            "0   104.0  LEXTON         2            Y\n"
          ],
          "name": "stdout"
        }
      ]
    },
    {
      "cell_type": "code",
      "metadata": {
        "id": "gCdbI_OnGWV7",
        "colab_type": "code",
        "colab": {}
      },
      "source": [
        "import pandas as pd\n",
        "df = pd.read_csv('property_data.csv')"
      ],
      "execution_count": 35,
      "outputs": []
    },
    {
      "cell_type": "markdown",
      "metadata": {
        "id": "hRGovI6xHSmu",
        "colab_type": "text"
      },
      "source": [
        "Data Cleaning is the process of preventing and correcting\n",
        "the errors such as duplicates, misssing values and\n",
        "incomplet data by importing libraries pandas and numpy"
      ]
    },
    {
      "cell_type": "code",
      "metadata": {
        "id": "15MYumT5G0Od",
        "colab_type": "code",
        "colab": {
          "base_uri": "https://localhost:8080/",
          "height": 185
        },
        "outputId": "0d43e450-0575-4c9d-da2d-c7b734acc920"
      },
      "source": [
        "\n",
        "import io\n",
        "print(df)"
      ],
      "execution_count": 38,
      "outputs": [
        {
          "output_type": "stream",
          "text": [
            "   ST_NUM    ST_NAME NUM_ROOMS OWN_OCCUPIED\n",
            "0   104.0     LEXTON         2            Y\n",
            "1   197.0   BERKELEY         3            N\n",
            "2     NaN  WASHINTON         3            Y\n",
            "3   201.0    TREMONT       NaN            N\n",
            "4   203.0    TREMONT        na           12\n",
            "5   205.0    TREMONT        --            Y\n",
            "6     NaN      BLAZE         4          NaN\n",
            "7   213.0      BLAZE         5            N\n",
            "8   214.0      BLAZE         6            N\n"
          ],
          "name": "stdout"
        }
      ]
    },
    {
      "cell_type": "markdown",
      "metadata": {
        "id": "gNyKdffrHZ4v",
        "colab_type": "text"
      },
      "source": [
        "Looking at the ST_NUM and NUM_ROOMS columns\n",
        "whether they have any null values"
      ]
    },
    {
      "cell_type": "code",
      "metadata": {
        "id": "CLTm3usmHaIF",
        "colab_type": "code",
        "colab": {
          "base_uri": "https://localhost:8080/",
          "height": 689
        },
        "outputId": "cf7b6e7e-b4f8-4a9a-f304-45389a79d8b8"
      },
      "source": [
        "print (df['ST_NUM'])\n",
        "print (df['ST_NUM'].isnull())\n",
        "print(df['NUM_ROOMS'])\n",
        "print(df['NUM_ROOMS'].isnull())"
      ],
      "execution_count": 39,
      "outputs": [
        {
          "output_type": "stream",
          "text": [
            "0    104.0\n",
            "1    197.0\n",
            "2      NaN\n",
            "3    201.0\n",
            "4    203.0\n",
            "5    205.0\n",
            "6      NaN\n",
            "7    213.0\n",
            "8    214.0\n",
            "Name: ST_NUM, dtype: float64\n",
            "0    False\n",
            "1    False\n",
            "2     True\n",
            "3    False\n",
            "4    False\n",
            "5    False\n",
            "6     True\n",
            "7    False\n",
            "8    False\n",
            "Name: ST_NUM, dtype: bool\n",
            "0      2\n",
            "1      3\n",
            "2      3\n",
            "3    NaN\n",
            "4     na\n",
            "5     --\n",
            "6      4\n",
            "7      5\n",
            "8      6\n",
            "Name: NUM_ROOMS, dtype: object\n",
            "0    False\n",
            "1    False\n",
            "2    False\n",
            "3     True\n",
            "4    False\n",
            "5    False\n",
            "6    False\n",
            "7    False\n",
            "8    False\n",
            "Name: NUM_ROOMS, dtype: bool\n"
          ],
          "name": "stdout"
        }
      ]
    },
    {
      "cell_type": "markdown",
      "metadata": {
        "id": "JglsOIx9Hkr8",
        "colab_type": "text"
      },
      "source": [
        "To mention possible missing values while opening the le"
      ]
    },
    {
      "cell_type": "code",
      "metadata": {
        "id": "LOvSpDwLHlA6",
        "colab_type": "code",
        "colab": {
          "base_uri": "https://localhost:8080/",
          "height": 353
        },
        "outputId": "735b1ea5-a8c4-4030-d614-ac5c3a681f57"
      },
      "source": [
        "#missing_values = [\"n/a\", \"na\", \"--\"]\n",
        "#pd.read_csv(io.BytesIO(uploaded['property_data.csv']),na_values = missing_values)\n",
        "print(df['NUM_ROOMS'])\n",
        "print(df['NUM_ROOMS'].isnull())\n"
      ],
      "execution_count": 40,
      "outputs": [
        {
          "output_type": "stream",
          "text": [
            "0      2\n",
            "1      3\n",
            "2      3\n",
            "3    NaN\n",
            "4     na\n",
            "5     --\n",
            "6      4\n",
            "7      5\n",
            "8      6\n",
            "Name: NUM_ROOMS, dtype: object\n",
            "0    False\n",
            "1    False\n",
            "2    False\n",
            "3     True\n",
            "4    False\n",
            "5    False\n",
            "6    False\n",
            "7    False\n",
            "8    False\n",
            "Name: NUM_ROOMS, dtype: bool\n"
          ],
          "name": "stdout"
        }
      ]
    },
    {
      "cell_type": "markdown",
      "metadata": {
        "id": "l0kc_xBRIBLp",
        "colab_type": "text"
      },
      "source": [
        "The above 3,4 5th index is not numeric whih needs\n",
        "correction again therefore we need coding part for it. It is\n",
        "corrected with coding below"
      ]
    },
    {
      "cell_type": "code",
      "metadata": {
        "id": "552OzFH_IBZu",
        "colab_type": "code",
        "colab": {
          "base_uri": "https://localhost:8080/",
          "height": 353
        },
        "outputId": "52fd7f72-fff0-4d3b-ea6c-9a99468b6d12"
      },
      "source": [
        "# Detecting numbers and replace it with NaN of numpy\n",
        "cnt=0\n",
        "for row in df['NUM_ROOMS']:\n",
        "    try:\n",
        "        int(row)\n",
        "    except ValueError:\n",
        "         df.loc[cnt, 'NUM_ROOMS']=np.nan\n",
        "    cnt+=1\n",
        "print(df['NUM_ROOMS'])\n",
        "print(df['NUM_ROOMS'].isnull())"
      ],
      "execution_count": 41,
      "outputs": [
        {
          "output_type": "stream",
          "text": [
            "0      2\n",
            "1      3\n",
            "2      3\n",
            "3    NaN\n",
            "4    NaN\n",
            "5    NaN\n",
            "6      4\n",
            "7      5\n",
            "8      6\n",
            "Name: NUM_ROOMS, dtype: object\n",
            "0    False\n",
            "1    False\n",
            "2    False\n",
            "3     True\n",
            "4     True\n",
            "5     True\n",
            "6    False\n",
            "7    False\n",
            "8    False\n",
            "Name: NUM_ROOMS, dtype: bool\n"
          ],
          "name": "stdout"
        }
      ]
    },
    {
      "cell_type": "markdown",
      "metadata": {
        "id": "evHAgi1FIMvo",
        "colab_type": "text"
      },
      "source": [
        "The above 4 th index is numeric which needs correction\n",
        "again therefore we need coding part for it. It is corrected\n",
        "with coding below"
      ]
    },
    {
      "cell_type": "code",
      "metadata": {
        "id": "b7MXdU8vIM7u",
        "colab_type": "code",
        "colab": {
          "base_uri": "https://localhost:8080/",
          "height": 353
        },
        "outputId": "6fb34954-5358-4c21-d8f5-01f4061d9ecd"
      },
      "source": [
        "# Detecting numbers and replace it with NaN of numpy\n",
        "cnt=0\n",
        "for row in df['OWN_OCCUPIED']:\n",
        "    try:\n",
        "        int(row)\n",
        "        df.loc[cnt, 'OWN_OCCUPIED']=np.nan\n",
        "    except ValueError:\n",
        "        pass\n",
        "    cnt+=1\n",
        "print(df['OWN_OCCUPIED'])\n",
        "print(df['OWN_OCCUPIED'].isnull())"
      ],
      "execution_count": 42,
      "outputs": [
        {
          "output_type": "stream",
          "text": [
            "0      Y\n",
            "1      N\n",
            "2      Y\n",
            "3      N\n",
            "4    NaN\n",
            "5      Y\n",
            "6    NaN\n",
            "7      N\n",
            "8      N\n",
            "Name: OWN_OCCUPIED, dtype: object\n",
            "0    False\n",
            "1    False\n",
            "2    False\n",
            "3    False\n",
            "4     True\n",
            "5    False\n",
            "6     True\n",
            "7    False\n",
            "8    False\n",
            "Name: OWN_OCCUPIED, dtype: bool\n"
          ],
          "name": "stdout"
        }
      ]
    },
    {
      "cell_type": "markdown",
      "metadata": {
        "id": "i2mnnhePIZuA",
        "colab_type": "text"
      },
      "source": [
        "Total missing values for each feature"
      ]
    },
    {
      "cell_type": "code",
      "metadata": {
        "id": "GuhxW1k7IaAr",
        "colab_type": "code",
        "colab": {
          "base_uri": "https://localhost:8080/",
          "height": 134
        },
        "outputId": "d119af3e-56f4-4dab-8a05-46b66df5d3aa"
      },
      "source": [
        "\n",
        "print(df.isnull().sum())\n",
        "print(sum(df.isnull().sum()))\n",
        "print('Total missing values')"
      ],
      "execution_count": 43,
      "outputs": [
        {
          "output_type": "stream",
          "text": [
            "ST_NUM          2\n",
            "ST_NAME         0\n",
            "NUM_ROOMS       3\n",
            "OWN_OCCUPIED    2\n",
            "dtype: int64\n",
            "7\n",
            "Total missing values\n"
          ],
          "name": "stdout"
        }
      ]
    },
    {
      "cell_type": "markdown",
      "metadata": {
        "id": "k9zJGM_bI8P5",
        "colab_type": "text"
      },
      "source": [
        "The coding below is an alternative to the above one."
      ]
    },
    {
      "cell_type": "code",
      "metadata": {
        "id": "ZxM8Yf9II8f9",
        "colab_type": "code",
        "colab": {
          "base_uri": "https://localhost:8080/",
          "height": 101
        },
        "outputId": "e9ede9ea-2749-40ad-a487-917f897c63c2"
      },
      "source": [
        "# Finding TOTAL missing of each mission fields and Total number of missing values\n",
        "print(df['ST_NUM'].isnull().sum()) \n",
        "print(df['ST_NAME'].isnull().sum()) \n",
        "print(df['NUM_ROOMS'].isnull().sum()) \n",
        "print(df['OWN_OCCUPIED'].isnull().sum()) \n",
        "print(df.isnull().sum().sum())\n"
      ],
      "execution_count": 44,
      "outputs": [
        {
          "output_type": "stream",
          "text": [
            "2\n",
            "0\n",
            "3\n",
            "2\n",
            "7\n"
          ],
          "name": "stdout"
        }
      ]
    },
    {
      "cell_type": "markdown",
      "metadata": {
        "id": "M3mFDKY7JCfT",
        "colab_type": "text"
      },
      "source": [
        "Finding COUNT AND average of  missing of each mission fields and Total number of"
      ]
    },
    {
      "cell_type": "code",
      "metadata": {
        "id": "uKbWgiIFJCyG",
        "colab_type": "code",
        "colab": {
          "base_uri": "https://localhost:8080/",
          "height": 84
        },
        "outputId": "19cc5350-8605-4bc0-97bb-4e835fddc3ec"
      },
      "source": [
        "# Finding COUNT AND average of  missing of each mission fields and Total number of\n",
        "df.shape\n",
        "print(df['ST_NUM'].isnull().sum()/9.0)\n",
        "print(df['ST_NAME'].isnull().sum()/9.0) \n",
        "print(df['NUM_ROOMS'].isnull().sum()/9.0) \n",
        "print(df['OWN_OCCUPIED'].isnull().sum()/9.0) "
      ],
      "execution_count": 45,
      "outputs": [
        {
          "output_type": "stream",
          "text": [
            "0.2222222222222222\n",
            "0.0\n",
            "0.3333333333333333\n",
            "0.2222222222222222\n"
          ],
          "name": "stdout"
        }
      ]
    },
    {
      "cell_type": "markdown",
      "metadata": {
        "id": "0upWnM0OJPXh",
        "colab_type": "text"
      },
      "source": [
        "error percentages are greater than 10%\n",
        " Replace missing values with a number"
      ]
    },
    {
      "cell_type": "code",
      "metadata": {
        "id": "M7YtWr85JPlf",
        "colab_type": "code",
        "colab": {
          "base_uri": "https://localhost:8080/",
          "height": 202
        },
        "outputId": "c2ac2a86-faa8-463c-d24b-4f83b65abac7"
      },
      "source": [
        "# error percentages are greater than 10%\n",
        "# Replace missing values with a number\n",
        "df['ST_NUM'].fillna(125, inplace=True)\n",
        "print('   ST_NUM')\n",
        "print(df['ST_NUM'])"
      ],
      "execution_count": 46,
      "outputs": [
        {
          "output_type": "stream",
          "text": [
            "   ST_NUM\n",
            "0    104.0\n",
            "1    197.0\n",
            "2    125.0\n",
            "3    201.0\n",
            "4    203.0\n",
            "5    205.0\n",
            "6    125.0\n",
            "7    213.0\n",
            "8    214.0\n",
            "Name: ST_NUM, dtype: float64\n"
          ],
          "name": "stdout"
        }
      ]
    },
    {
      "cell_type": "markdown",
      "metadata": {
        "id": "35bsHg0RJP03",
        "colab_type": "text"
      },
      "source": [
        "Replace using median "
      ]
    },
    {
      "cell_type": "code",
      "metadata": {
        "id": "1vRIvl4rJQIw",
        "colab_type": "code",
        "colab": {
          "base_uri": "https://localhost:8080/",
          "height": 185
        },
        "outputId": "a0f26cba-94f3-47c4-9ef3-f0c244222af8"
      },
      "source": [
        " \n",
        "median = df['NUM_ROOMS'].median()\n",
        "df['NUM_ROOMS'].fillna(median, inplace=True)\n",
        "print(df['NUM_ROOMS'])\n"
      ],
      "execution_count": 47,
      "outputs": [
        {
          "output_type": "stream",
          "text": [
            "0      2\n",
            "1      3\n",
            "2      3\n",
            "3    3.5\n",
            "4    3.5\n",
            "5    3.5\n",
            "6      4\n",
            "7      5\n",
            "8      6\n",
            "Name: NUM_ROOMS, dtype: object\n"
          ],
          "name": "stdout"
        }
      ]
    },
    {
      "cell_type": "markdown",
      "metadata": {
        "id": "HCfW7-8eJiaK",
        "colab_type": "text"
      },
      "source": [
        "print df"
      ]
    },
    {
      "cell_type": "code",
      "metadata": {
        "id": "o9M1QfvpJisY",
        "colab_type": "code",
        "colab": {
          "base_uri": "https://localhost:8080/",
          "height": 185
        },
        "outputId": "d0f9ca36-e010-4663-fd28-88dfc0675326"
      },
      "source": [
        "print(df)"
      ],
      "execution_count": 48,
      "outputs": [
        {
          "output_type": "stream",
          "text": [
            "   ST_NUM    ST_NAME NUM_ROOMS OWN_OCCUPIED\n",
            "0   104.0     LEXTON         2            Y\n",
            "1   197.0   BERKELEY         3            N\n",
            "2   125.0  WASHINTON         3            Y\n",
            "3   201.0    TREMONT       3.5            N\n",
            "4   203.0    TREMONT       3.5          NaN\n",
            "5   205.0    TREMONT       3.5            Y\n",
            "6   125.0      BLAZE         4          NaN\n",
            "7   213.0      BLAZE         5            N\n",
            "8   214.0      BLAZE         6            N\n"
          ],
          "name": "stdout"
        }
      ]
    },
    {
      "cell_type": "markdown",
      "metadata": {
        "id": "CWB1lSX_Ji_H",
        "colab_type": "text"
      },
      "source": [
        "to find the maxmum occurrence of the values in the attribute OWN_OCCUPIED"
      ]
    },
    {
      "cell_type": "code",
      "metadata": {
        "id": "LHf0sROXJjSA",
        "colab_type": "code",
        "colab": {
          "base_uri": "https://localhost:8080/",
          "height": 34
        },
        "outputId": "2a2b0d17-a487-43da-82ae-1e25d03ab971"
      },
      "source": [
        "\n",
        "df['OWN_OCCUPIED'].value_counts().idxmax()\n"
      ],
      "execution_count": 49,
      "outputs": [
        {
          "output_type": "execute_result",
          "data": {
            "text/plain": [
              "'N'"
            ]
          },
          "metadata": {
            "tags": []
          },
          "execution_count": 49
        }
      ]
    },
    {
      "cell_type": "markdown",
      "metadata": {
        "id": "pSV3mFlrJzIv",
        "colab_type": "text"
      },
      "source": [
        "finding all values occurrence"
      ]
    },
    {
      "cell_type": "code",
      "metadata": {
        "id": "Wkr5Rpn2JzXs",
        "colab_type": "code",
        "colab": {
          "base_uri": "https://localhost:8080/",
          "height": 67
        },
        "outputId": "6ff23739-aadb-4f70-8808-e2dfb33f36f4"
      },
      "source": [
        "\n",
        "df['OWN_OCCUPIED'].value_counts()\n"
      ],
      "execution_count": 50,
      "outputs": [
        {
          "output_type": "execute_result",
          "data": {
            "text/plain": [
              "N    4\n",
              "Y    3\n",
              "Name: OWN_OCCUPIED, dtype: int64"
            ]
          },
          "metadata": {
            "tags": []
          },
          "execution_count": 50
        }
      ]
    },
    {
      "cell_type": "markdown",
      "metadata": {
        "id": "lfwySWu3J6Hp",
        "colab_type": "text"
      },
      "source": [
        "Replacing all NaN in ST_NUM with some random value 125\n",
        "\n"
      ]
    },
    {
      "cell_type": "code",
      "metadata": {
        "id": "jOqxcEhjJ6W5",
        "colab_type": "code",
        "colab": {
          "base_uri": "https://localhost:8080/",
          "height": 185
        },
        "outputId": "6e2c2915-2d6a-415e-a29a-5590de9c6e27"
      },
      "source": [
        "df['ST_NUM'].fillna(125)"
      ],
      "execution_count": 56,
      "outputs": [
        {
          "output_type": "execute_result",
          "data": {
            "text/plain": [
              "0    104.0\n",
              "1    197.0\n",
              "2    125.0\n",
              "3    201.0\n",
              "4    203.0\n",
              "5    205.0\n",
              "6    125.0\n",
              "7    213.0\n",
              "8    214.0\n",
              "Name: ST_NUM, dtype: float64"
            ]
          },
          "metadata": {
            "tags": []
          },
          "execution_count": 56
        }
      ]
    },
    {
      "cell_type": "code",
      "metadata": {
        "id": "6bzLcYXkKRn-",
        "colab_type": "code",
        "colab": {
          "base_uri": "https://localhost:8080/",
          "height": 314
        },
        "outputId": "30abfc89-da68-46b5-9976-6afa87d184ca"
      },
      "source": [
        "df\n"
      ],
      "execution_count": 57,
      "outputs": [
        {
          "output_type": "execute_result",
          "data": {
            "text/html": [
              "<div>\n",
              "<style scoped>\n",
              "    .dataframe tbody tr th:only-of-type {\n",
              "        vertical-align: middle;\n",
              "    }\n",
              "\n",
              "    .dataframe tbody tr th {\n",
              "        vertical-align: top;\n",
              "    }\n",
              "\n",
              "    .dataframe thead th {\n",
              "        text-align: right;\n",
              "    }\n",
              "</style>\n",
              "<table border=\"1\" class=\"dataframe\">\n",
              "  <thead>\n",
              "    <tr style=\"text-align: right;\">\n",
              "      <th></th>\n",
              "      <th>ST_NUM</th>\n",
              "      <th>ST_NAME</th>\n",
              "      <th>NUM_ROOMS</th>\n",
              "      <th>OWN_OCCUPIED</th>\n",
              "    </tr>\n",
              "  </thead>\n",
              "  <tbody>\n",
              "    <tr>\n",
              "      <th>0</th>\n",
              "      <td>104.0</td>\n",
              "      <td>LEXTON</td>\n",
              "      <td>2</td>\n",
              "      <td>Y</td>\n",
              "    </tr>\n",
              "    <tr>\n",
              "      <th>1</th>\n",
              "      <td>197.0</td>\n",
              "      <td>BERKELEY</td>\n",
              "      <td>3</td>\n",
              "      <td>N</td>\n",
              "    </tr>\n",
              "    <tr>\n",
              "      <th>2</th>\n",
              "      <td>125.0</td>\n",
              "      <td>WASHINTON</td>\n",
              "      <td>3</td>\n",
              "      <td>Y</td>\n",
              "    </tr>\n",
              "    <tr>\n",
              "      <th>3</th>\n",
              "      <td>201.0</td>\n",
              "      <td>TREMONT</td>\n",
              "      <td>3.5</td>\n",
              "      <td>N</td>\n",
              "    </tr>\n",
              "    <tr>\n",
              "      <th>4</th>\n",
              "      <td>203.0</td>\n",
              "      <td>TREMONT</td>\n",
              "      <td>3.5</td>\n",
              "      <td>N</td>\n",
              "    </tr>\n",
              "    <tr>\n",
              "      <th>5</th>\n",
              "      <td>205.0</td>\n",
              "      <td>TREMONT</td>\n",
              "      <td>3.5</td>\n",
              "      <td>Y</td>\n",
              "    </tr>\n",
              "    <tr>\n",
              "      <th>6</th>\n",
              "      <td>125.0</td>\n",
              "      <td>BLAZE</td>\n",
              "      <td>4</td>\n",
              "      <td>N</td>\n",
              "    </tr>\n",
              "    <tr>\n",
              "      <th>7</th>\n",
              "      <td>213.0</td>\n",
              "      <td>BLAZE</td>\n",
              "      <td>5</td>\n",
              "      <td>N</td>\n",
              "    </tr>\n",
              "    <tr>\n",
              "      <th>8</th>\n",
              "      <td>214.0</td>\n",
              "      <td>BLAZE</td>\n",
              "      <td>6</td>\n",
              "      <td>N</td>\n",
              "    </tr>\n",
              "  </tbody>\n",
              "</table>\n",
              "</div>"
            ],
            "text/plain": [
              "   ST_NUM    ST_NAME NUM_ROOMS OWN_OCCUPIED\n",
              "0   104.0     LEXTON         2            Y\n",
              "1   197.0   BERKELEY         3            N\n",
              "2   125.0  WASHINTON         3            Y\n",
              "3   201.0    TREMONT       3.5            N\n",
              "4   203.0    TREMONT       3.5            N\n",
              "5   205.0    TREMONT       3.5            Y\n",
              "6   125.0      BLAZE         4            N\n",
              "7   213.0      BLAZE         5            N\n",
              "8   214.0      BLAZE         6            N"
            ]
          },
          "metadata": {
            "tags": []
          },
          "execution_count": 57
        }
      ]
    },
    {
      "cell_type": "markdown",
      "metadata": {
        "id": "UTTrtHS-KiNw",
        "colab_type": "text"
      },
      "source": [
        "Replacing all NaN in own_occupied with N is justified as its occurrene is more"
      ]
    },
    {
      "cell_type": "code",
      "metadata": {
        "id": "NBKUWpHPKjKN",
        "colab_type": "code",
        "colab": {}
      },
      "source": [
        "\n",
        "df['OWN_OCCUPIED'].fillna('N',inplace=True)\n"
      ],
      "execution_count": 59,
      "outputs": []
    },
    {
      "cell_type": "code",
      "metadata": {
        "id": "pT0meaVeKruq",
        "colab_type": "code",
        "colab": {
          "base_uri": "https://localhost:8080/",
          "height": 314
        },
        "outputId": "fc8e02a3-d110-47bf-f866-6e939ac6d250"
      },
      "source": [
        "df"
      ],
      "execution_count": 60,
      "outputs": [
        {
          "output_type": "execute_result",
          "data": {
            "text/html": [
              "<div>\n",
              "<style scoped>\n",
              "    .dataframe tbody tr th:only-of-type {\n",
              "        vertical-align: middle;\n",
              "    }\n",
              "\n",
              "    .dataframe tbody tr th {\n",
              "        vertical-align: top;\n",
              "    }\n",
              "\n",
              "    .dataframe thead th {\n",
              "        text-align: right;\n",
              "    }\n",
              "</style>\n",
              "<table border=\"1\" class=\"dataframe\">\n",
              "  <thead>\n",
              "    <tr style=\"text-align: right;\">\n",
              "      <th></th>\n",
              "      <th>ST_NUM</th>\n",
              "      <th>ST_NAME</th>\n",
              "      <th>NUM_ROOMS</th>\n",
              "      <th>OWN_OCCUPIED</th>\n",
              "    </tr>\n",
              "  </thead>\n",
              "  <tbody>\n",
              "    <tr>\n",
              "      <th>0</th>\n",
              "      <td>104.0</td>\n",
              "      <td>LEXTON</td>\n",
              "      <td>2</td>\n",
              "      <td>Y</td>\n",
              "    </tr>\n",
              "    <tr>\n",
              "      <th>1</th>\n",
              "      <td>197.0</td>\n",
              "      <td>BERKELEY</td>\n",
              "      <td>3</td>\n",
              "      <td>N</td>\n",
              "    </tr>\n",
              "    <tr>\n",
              "      <th>2</th>\n",
              "      <td>125.0</td>\n",
              "      <td>WASHINTON</td>\n",
              "      <td>3</td>\n",
              "      <td>Y</td>\n",
              "    </tr>\n",
              "    <tr>\n",
              "      <th>3</th>\n",
              "      <td>201.0</td>\n",
              "      <td>TREMONT</td>\n",
              "      <td>3.5</td>\n",
              "      <td>N</td>\n",
              "    </tr>\n",
              "    <tr>\n",
              "      <th>4</th>\n",
              "      <td>203.0</td>\n",
              "      <td>TREMONT</td>\n",
              "      <td>3.5</td>\n",
              "      <td>N</td>\n",
              "    </tr>\n",
              "    <tr>\n",
              "      <th>5</th>\n",
              "      <td>205.0</td>\n",
              "      <td>TREMONT</td>\n",
              "      <td>3.5</td>\n",
              "      <td>Y</td>\n",
              "    </tr>\n",
              "    <tr>\n",
              "      <th>6</th>\n",
              "      <td>125.0</td>\n",
              "      <td>BLAZE</td>\n",
              "      <td>4</td>\n",
              "      <td>N</td>\n",
              "    </tr>\n",
              "    <tr>\n",
              "      <th>7</th>\n",
              "      <td>213.0</td>\n",
              "      <td>BLAZE</td>\n",
              "      <td>5</td>\n",
              "      <td>N</td>\n",
              "    </tr>\n",
              "    <tr>\n",
              "      <th>8</th>\n",
              "      <td>214.0</td>\n",
              "      <td>BLAZE</td>\n",
              "      <td>6</td>\n",
              "      <td>N</td>\n",
              "    </tr>\n",
              "  </tbody>\n",
              "</table>\n",
              "</div>"
            ],
            "text/plain": [
              "   ST_NUM    ST_NAME NUM_ROOMS OWN_OCCUPIED\n",
              "0   104.0     LEXTON         2            Y\n",
              "1   197.0   BERKELEY         3            N\n",
              "2   125.0  WASHINTON         3            Y\n",
              "3   201.0    TREMONT       3.5            N\n",
              "4   203.0    TREMONT       3.5            N\n",
              "5   205.0    TREMONT       3.5            Y\n",
              "6   125.0      BLAZE         4            N\n",
              "7   213.0      BLAZE         5            N\n",
              "8   214.0      BLAZE         6            N"
            ]
          },
          "metadata": {
            "tags": []
          },
          "execution_count": 60
        }
      ]
    }
  ]
}